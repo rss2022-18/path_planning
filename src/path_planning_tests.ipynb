{
 "cells": [
  {
   "cell_type": "code",
   "execution_count": 1,
   "metadata": {},
   "outputs": [
    {
     "data": {
      "text/plain": [
       "<module 'planners' from 'c:\\Users\\herbi\\Documents\\Spring 2022\\6141\\racecar_docker\\home\\racecar_ws\\src\\path_planning\\src\\planners.pyc'>"
      ]
     },
     "execution_count": 1,
     "metadata": {},
     "output_type": "execute_result"
    }
   ],
   "source": [
    "import numpy as np\n",
    "import time\n",
    "import os\n",
    "import matplotlib.pyplot as plt \n",
    "from Queue import PriorityQueue\n",
    "import planners\n",
    "reload(planners)"
   ]
  },
  {
   "cell_type": "code",
   "execution_count": 32,
   "metadata": {},
   "outputs": [],
   "source": [
    "occupancy_grid_ex_1 = np.reshape(np.array([\n",
    "    [0,0,0,0,0,100,0,0,0,0],\n",
    "    [0,0,0,0,0,100,0,0,0,0],\n",
    "    [0,0,100,0,0,100,0,0,0,0],\n",
    "    [0,0,100,0,0,100,0,0,0,0],\n",
    "    [0,0,100,0,0,100,0,0,0,0],\n",
    "    [0,0,100,0,0,0,0,0,0,0],\n",
    "    [0,0,100,0,0,0,0,0,0,0],\n",
    "    [0,0,100,0,0,0,0,0,0,0],\n",
    "    [0,0,100,0,0,0,0,100,0,0],\n",
    "    [0,0,100,0,0,0,0,100,0,0]\n",
    "    ]).flatten('A'), (10,10))\n",
    "occupancy_grid_ex_2 = np.reshape(np.array([\n",
    "    [0,0,0,0,0,100,0,0,0,0,0,0,0,0,100,0,0,0,0,0,100,0,0,0,0],\n",
    "    [0,0,0,0,0,100,0,0,0,0,0,0,0,0,100,0,0,0,0,0,100,0,0,0,0],\n",
    "    [0,0,100,0,0,100,0,0,0,0,0,0,0,0,100,0,0,0,0,0,100,0,0,0,0],\n",
    "    [0,0,100,0,0,100,0,0,0,0,0,0,0,0,100,0,0,0,0,0,100,0,0,0,0],\n",
    "    [0,0,100,0,0,100,0,0,0,0,0,0,0,0,100,0,0,0,0,0,100,0,0,0,0],\n",
    "    [0,0,100,0,0,0,0,0,0,0,0,0,0,0,0,0,0,0,0,0,0,0,0,0,0],\n",
    "    [0,0,100,0,0,0,0,0,0,0,0,0,0,0,0,0,0,0,0,0,0,0,0,0,0],\n",
    "    [0,0,100,0,0,0,0,0,0,0,0,0,0,0,0,0,0,0,0,0,0,0,0,0,0],\n",
    "    [0,0,100,0,0,0,0,0,0,0,0,0,0,0,0,0,0,0,0,0,0,0,0,0,0],\n",
    "    [0,0,100,0,0,0,0,0,0,0,0,0,0,0,0,0,0,0,0,0,0,0,0,0,0],\n",
    "    [0,0,0,0,0,0,0,0,0,0,0,0,0,0,100,0,0,0,0,0,0,0,0,0,0],\n",
    "    [0,0,0,0,0,100,0,0,0,0,0,0,0,0,100,0,0,0,0,0,0,0,0,0,0],\n",
    "    [0,0,0,0,0,100,0,0,0,0,0,0,0,0,100,0,0,0,0,0,0,0,0,0,0],\n",
    "    [0,0,0,0,0,100,0,0,0,0,0,0,0,0,100,0,0,0,0,0,0,0,0,0,0],\n",
    "    [0,0,0,0,0,0,0,0,0,0,0,0,0,0,100,0,0,0,0,0,0,0,0,0,0],\n",
    "    [0,0,100,0,0,0,0,0,0,0,0,0,0,0,0,0,0,0,0,0,0,0,0,0,0],\n",
    "    [0,0,100,0,0,0,0,0,0,0,0,0,0,0,0,0,0,100,0,0,0,0,0,0,0],\n",
    "    [0,0,100,0,0,0,0,0,0,0,0,0,0,0,0,0,0,100,0,0,0,0,0,0,0],\n",
    "    [0,0,100,0,0,0,0,100,0,0,0,0,0,0,0,0,0,100,0,0,0,0,0,0,0],\n",
    "    [0,0,100,0,0,0,0,100,0,0,0,0,0,0,0,0,0,0,0,0,0,0,0,0,0],\n",
    "    [0,0,100,0,0,100,0,0,0,0,0,0,0,0,100,0,0,0,0,0,100,0,0,0,0],\n",
    "    [0,0,100,0,0,100,0,0,0,0,0,0,0,0,100,0,0,0,0,0,100,0,0,0,0],\n",
    "    [0,0,100,0,0,100,0,0,0,0,0,0,0,0,100,0,0,0,0,0,100,0,0,0,0],\n",
    "    [0,0,100,0,0,100,0,0,0,0,0,0,0,0,100,0,0,0,0,0,100,0,0,0,0],\n",
    "    [0,0,100,0,0,100,0,0,0,0,0,0,0,0,100,0,0,0,0,0,100,0,0,0,0],\n",
    "    ]).flatten('A'), (25,25))"
   ]
  },
  {
   "cell_type": "code",
   "execution_count": 2,
   "metadata": {},
   "outputs": [],
   "source": [
    "REDUCTION_FACTOR = 2 \n",
    "\n",
    "def reduce_map(occupancy_grid):\n",
    "    \"\"\"\n",
    "    Reduces the resolution of the map by a factor of REDUCTION_FACTOR\n",
    "    \"\"\"\n",
    "    new_grid = np.zeros(\n",
    "        (occupancy_grid.shape[0]/REDUCTION_FACTOR, occupancy_grid.shape[1]/REDUCTION_FACTOR))\n",
    "    for i in range(occupancy_grid.shape[0]/REDUCTION_FACTOR):\n",
    "        for j in range(occupancy_grid.shape[1]/REDUCTION_FACTOR):\n",
    "            new_grid[i][j] = np.max(occupancy_grid[i*REDUCTION_FACTOR:(\n",
    "                i+1)*REDUCTION_FACTOR, j*REDUCTION_FACTOR:(j+1)*REDUCTION_FACTOR])\n",
    "    return new_grid\n",
    "\n",
    "def plan_path(map,planner, start, goal, visualize=True):\n",
    "    planner = planner(map,map.shape[0],map.shape[1],1,1)\n",
    "    path = planner.find_path(start, goal)\n",
    "    if visualize:\n",
    "        plt.figure()\n",
    "        map[start] = 2\n",
    "        map[goal] = 3\n",
    "        plt.imshow(map)\n",
    "        plt.figure()\n",
    "        for point in path:\n",
    "            point = (int(point[1]),int(point[0]))\n",
    "            if map[point] == 0:\n",
    "                map[point] = 40\n",
    "            else:\n",
    "                map[point] = 50\n",
    "        plt.imshow(map)\n",
    "        plt.show()\n",
    "    return path\n",
    "\n"
   ]
  },
  {
   "cell_type": "code",
   "execution_count": 49,
   "metadata": {},
   "outputs": [
    {
     "data": {
      "text/plain": [
       "<matplotlib.image.AxesImage at 0x1d74b308>"
      ]
     },
     "execution_count": 49,
     "metadata": {},
     "output_type": "execute_result"
    },
    {
     "data": {
      "image/png": "[encoded data removed]",
      "text/plain": [
       "<Figure size 432x288 with 1 Axes>"
      ]
     },
     "metadata": {
      "needs_background": "light"
     },
     "output_type": "display_data"
    }
   ],
   "source": [
    "plt.imshow(reduce_map(occupancy_grid_ex_1.copy()))"
   ]
  },
  {
   "cell_type": "code",
   "execution_count": 46,
   "metadata": {},
   "outputs": [
    {
     "name": "stdout",
     "output_type": "stream",
     "text": [
      "Found goal state!\n"
     ]
    },
    {
     "data": {
      "image/png": "[encoded data removed]",
      "text/plain": [
       "<Figure size 432x288 with 1 Axes>"
      ]
     },
     "metadata": {
      "needs_background": "light"
     },
     "output_type": "display_data"
    },
    {
     "data": {
      "image/png": "[encoded data removed]",
      "text/plain": [
       "<Figure size 432x288 with 1 Axes>"
      ]
     },
     "metadata": {
      "needs_background": "light"
     },
     "output_type": "display_data"
    },
    {
     "name": "stdout",
     "output_type": "stream",
     "text": [
      "Break!\n"
     ]
    },
    {
     "data": {
      "image/png": "[encoded data removed]",
      "text/plain": [
       "<Figure size 432x288 with 1 Axes>"
      ]
     },
     "metadata": {
      "needs_background": "light"
     },
     "output_type": "display_data"
    },
    {
     "data": {
      "image/png": "[encoded data removed]",
      "text/plain": [
       "<Figure size 432x288 with 1 Axes>"
      ]
     },
     "metadata": {
      "needs_background": "light"
     },
     "output_type": "display_data"
    },
    {
     "name": "stdout",
     "output_type": "stream",
     "text": [
      "Found goal state!\n"
     ]
    },
    {
     "data": {
      "image/png": "[encoded data removed]",
      "text/plain": [
       "<Figure size 432x288 with 1 Axes>"
      ]
     },
     "metadata": {
      "needs_background": "light"
     },
     "output_type": "display_data"
    },
    {
     "data": {
      "image/png": "[encoded data removed]",
      "text/plain": [
       "<Figure size 432x288 with 1 Axes>"
      ]
     },
     "metadata": {
      "needs_background": "light"
     },
     "output_type": "display_data"
    },
    {
     "name": "stdout",
     "output_type": "stream",
     "text": [
      "Break!\n"
     ]
    },
    {
     "data": {
      "image/png": "[encoded data removed]",
      "text/plain": [
       "<Figure size 432x288 with 1 Axes>"
      ]
     },
     "metadata": {
      "needs_background": "light"
     },
     "output_type": "display_data"
    },
    {
     "data": {
      "image/png": "[encoded data removed]",
      "text/plain": [
       "<Figure size 432x288 with 1 Axes>"
      ]
     },
     "metadata": {
      "needs_background": "light"
     },
     "output_type": "display_data"
    },
    {
     "data": {
      "text/plain": [
       "[(0, 0),\n",
       " (1, 1),\n",
       " (2, 1),\n",
       " (3, 2),\n",
       " (4, 3),\n",
       " (4, 4),\n",
       " (5, 5),\n",
       " (6, 6),\n",
       " (7, 7),\n",
       " (8, 8),\n",
       " (9, 9),\n",
       " (10, 10),\n",
       " (11, 11),\n",
       " (12, 12),\n",
       " (13, 13),\n",
       " (13, 14),\n",
       " (14, 15),\n",
       " (15, 15),\n",
       " (16, 15),\n",
       " (17, 15),\n",
       " (18, 16),\n",
       " (19, 17),\n",
       " (20, 18),\n",
       " (21, 19),\n",
       " (21, 20),\n",
       " (21, 21),\n",
       " (22, 22)]"
      ]
     },
     "execution_count": 46,
     "metadata": {},
     "output_type": "execute_result"
    }
   ],
   "source": [
    "nodes = plan_path(occupancy_grid_ex_1.copy(),planners.RRTPlanner, (0,0), (9,9), visualize=True)\n",
    "nodes = plan_path(occupancy_grid_ex_1.copy(),planners.AStarPlanner, (0,0), (9,9), visualize=True)\n",
    "nodes = plan_path(occupancy_grid_ex_2.copy(),planners.RRTPlanner, (0,0), (22,22), visualize=True)\n",
    "# plt.scatter([node.x for node in nodes],[node.y for node in nodes])\n",
    "plan_path(occupancy_grid_ex_2.copy(),planners.AStarPlanner, (0,0), (22, 22), visualize=True)"
   ]
  },
  {
   "cell_type": "code",
   "execution_count": 3,
   "metadata": {},
   "outputs": [
    {
     "data": {
      "text/plain": [
       "<matplotlib.image.AxesImage at 0x292aa3c8>"
      ]
     },
     "execution_count": 3,
     "metadata": {},
     "output_type": "execute_result"
    },
    {
     "data": {
      "image/png": "[encoded data removed]",
      "text/plain": [
       "<Figure size 432x288 with 1 Axes>"
      ]
     },
     "metadata": {
      "needs_background": "light"
     },
     "output_type": "display_data"
    }
   ],
   "source": [
    "data = np.load('dilated_map.npy')\n",
    "map = np.reshape(data, (1300, 1730))\n",
    "plt.imshow(map)"
   ]
  },
  {
   "cell_type": "code",
   "execution_count": 4,
   "metadata": {},
   "outputs": [],
   "source": [
    "import timeit \n",
    "import pandas as pd\n",
    "test_paths = {'test1':[(51,978),(603,991)],\n",
    "'test2':[(73,989),(1116,973)],\n",
    "'test3':[(596,989),(899,855)],\n",
    "'test4':[(762,972),(985,284)],\n",
    "'test5':[(876, 982), (1590, 295)]\n",
    "}\n",
    "algorithms = {'RRT':planners.RRTPlanner,'AStar':planners.AStarPlanner}\n",
    "time_df = pd.DataFrame(columns=['algorithm','test1','test2','test3','test4','test5'])\n",
    "dist_df = pd.DataFrame(columns=['algorithm','test1','test2','test3','test4','test5']) "
   ]
  },
  {
   "cell_type": "code",
   "execution_count": 8,
   "metadata": {},
   "outputs": [
    {
     "data": {
      "text/plain": [
       "<matplotlib.image.AxesImage at 0x2e57d988>"
      ]
     },
     "execution_count": 8,
     "metadata": {},
     "output_type": "execute_result"
    },
    {
     "data": {
      "image/png": "[encoded data removed]",
      "text/plain": [
       "<Figure size 432x288 with 1 Axes>"
      ]
     },
     "metadata": {
      "needs_background": "light"
     },
     "output_type": "display_data"
    }
   ],
   "source": [
    "marked_map = map.copy()\n",
    "for test in test_paths:\n",
    "    for i in range(-5,6):\n",
    "        for j in range(-5,6):\n",
    "            for x,y in test_paths[test]:\n",
    "                marked_map[(j+y, x+i)] = 50 \n",
    "plt.imshow(marked_map)"
   ]
  },
  {
   "cell_type": "code",
   "execution_count": 9,
   "metadata": {},
   "outputs": [
    {
     "name": "stdout",
     "output_type": "stream",
     "text": [
      "Break!\n",
      "Break!\n",
      "Break!\n",
      "Break!\n",
      "Break!\n",
      "Break!\n",
      "Break!\n",
      "Break!\n",
      "Break!\n",
      "Break!\n",
      "Found goal state!\n",
      "Found goal state!\n",
      "Found goal state!\n",
      "Found goal state!\n",
      "Found goal state!\n",
      "Found goal state!\n"
     ]
    }
   ],
   "source": [
    "NUM_ITERATIONS = 1\n",
    "for alg in algorithms:\n",
    "    planner = algorithms[alg](map,map.shape[0],map.shape[1],1)\n",
    "    avg_dists = []\n",
    "    time_dists = []\n",
    "    for test in test_paths:\n",
    "        start = test_paths[test][0]\n",
    "        goal = test_paths[test][1]\n",
    "        avg_dist = 0\n",
    "        for i in range(NUM_ITERATIONS):\n",
    "            path = planner.find_path(start, goal)\n",
    "            if path is not None:\n",
    "                avg_dist += sum([np.sqrt((path[i][0]-path[i+1][0])**2+(path[i][1]-path[i+1][1])**2) for i in range(len(path)-1)])\n",
    "            else:\n",
    "                avg_dist += np.inf\n",
    "        avg_dists.append(avg_dist/NUM_ITERATIONS)\n",
    "        time_dists.append(timeit.timeit(lambda:planner.find_path(start, goal),number=NUM_ITERATIONS)/NUM_ITERATIONS)\n",
    "    print(alg, avg_dists, time_dists)\n",
    "    time_df.append({'algorithm':alg,'test1':time_dists[0],'test2':time_dists[1],'test3':time_dists[2],'test4':time_dists[3],'test5':time_dists[4]},ignore_index=True)\n",
    "    dist_df.append({'algorithm':alg,'test1':avg_dists[0],'test2':avg_dists[1],'test3':avg_dists[2],'test4':avg_dists[3],'test5':avg_dists[4]},ignore_index=True)"
   ]
  },
  {
   "cell_type": "code",
   "execution_count": 12,
   "metadata": {},
   "outputs": [
    {
     "data": {
      "text/html": [
       "<div>\n",
       "<style scoped>\n",
       "    .dataframe tbody tr th:only-of-type {\n",
       "        vertical-align: middle;\n",
       "    }\n",
       "\n",
       "    .dataframe tbody tr th {\n",
       "        vertical-align: top;\n",
       "    }\n",
       "\n",
       "    .dataframe thead th {\n",
       "        text-align: right;\n",
       "    }\n",
       "</style>\n",
       "<table border=\"1\" class=\"dataframe\">\n",
       "  <thead>\n",
       "    <tr style=\"text-align: right;\">\n",
       "      <th></th>\n",
       "      <th>algorithm</th>\n",
       "      <th>test1</th>\n",
       "      <th>test2</th>\n",
       "      <th>test3</th>\n",
       "      <th>test4</th>\n",
       "      <th>test5</th>\n",
       "    </tr>\n",
       "  </thead>\n",
       "  <tbody>\n",
       "  </tbody>\n",
       "</table>\n",
       "</div>"
      ],
      "text/plain": [
       "Empty DataFrame\n",
       "Columns: [algorithm, test1, test2, test3, test4, test5]\n",
       "Index: []"
      ]
     },
     "execution_count": 12,
     "metadata": {},
     "output_type": "execute_result"
    }
   ],
   "source": [
    "dist_df.head(2)\n",
    "time_df.head(2)"
   ]
  }
 ],
 "metadata": {
  "interpreter": {
   "hash": "f064d58311f5ea509efccebc88686cd51a4f8eec9314b168ee320f6b83772901"
  },
  "kernelspec": {
   "display_name": "Python 3.9.12 64-bit (windows store)",
   "language": "python",
   "name": "python3"
  },
  "language_info": {
   "codemirror_mode": {
    "name": "ipython",
    "version": 2
   },
   "file_extension": ".py",
   "mimetype": "text/x-python",
   "name": "python",
   "nbconvert_exporter": "python",
   "pygments_lexer": "ipython2",
   "version": "2.7.18"
  },
  "orig_nbformat": 4
 },
 "nbformat": 4,
 "nbformat_minor": 2
}
