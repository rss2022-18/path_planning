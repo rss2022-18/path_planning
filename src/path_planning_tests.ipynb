{
 "cells": [
  {
   "cell_type": "code",
   "execution_count": 54,
   "metadata": {},
   "outputs": [
    {
     "data": {
      "text/plain": [
       "<module 'planners' from 'c:\\Users\\herbi\\Documents\\Spring 2022\\6141\\racecar_docker\\home\\racecar_ws\\src\\path_planning\\src\\planners.pyc'>"
      ]
     },
     "execution_count": 54,
     "metadata": {},
     "output_type": "execute_result"
    }
   ],
   "source": [
    "import numpy as np\n",
    "import time\n",
    "import os\n",
    "import matplotlib.pyplot as plt \n",
    "from Queue import PriorityQueue\n",
    "import planners\n",
    "reload(planners)"
   ]
  },
  {
   "cell_type": "code",
   "execution_count": 69,
   "metadata": {},
   "outputs": [],
   "source": [
    "occupancy_grid_ex_1 = np.reshape(np.array([\n",
    "    [0,0,0,0,0,1,0,0,0,0],\n",
    "    [0,0,0,0,0,1,0,0,0,0],\n",
    "    [0,0,1,0,0,1,0,0,0,0],\n",
    "    [0,0,1,0,0,1,0,0,0,0],\n",
    "    [0,0,1,0,0,1,0,0,0,0],\n",
    "    [0,0,1,0,0,0,0,0,0,0],\n",
    "    [0,0,1,0,0,0,0,0,0,0],\n",
    "    [0,0,1,0,0,0,0,0,0,0],\n",
    "    [0,0,1,0,0,0,0,1,0,0],\n",
    "    [0,0,1,0,0,0,0,1,0,0]\n",
    "    ]).flatten('A'), (10,10))\n",
    "occupancy_grid_ex_2 = np.reshape(np.array([\n",
    "    [0,0,0,0,0,1,0,0,0,0,0,0,0,0,1,0,0,0,0,0,1,0,0,0,0],\n",
    "    [0,0,0,0,0,1,0,0,0,0,0,0,0,0,1,0,0,0,0,0,1,0,0,0,0],\n",
    "    [0,0,1,0,0,1,0,0,0,0,0,0,0,0,1,0,0,0,0,0,1,0,0,0,0],\n",
    "    [0,0,1,0,0,1,0,0,0,0,0,0,0,0,1,0,0,0,0,0,1,0,0,0,0],\n",
    "    [0,0,1,0,0,1,0,0,0,0,0,0,0,0,1,0,0,0,0,0,1,0,0,0,0],\n",
    "    [0,0,1,0,0,0,0,0,0,0,0,0,0,0,0,0,0,0,0,0,0,0,0,0,0],\n",
    "    [0,0,1,0,0,0,0,0,0,0,0,0,0,0,0,0,0,0,0,0,0,0,0,0,0],\n",
    "    [0,0,1,0,0,0,0,0,0,0,0,0,0,0,0,0,0,0,0,0,0,0,0,0,0],\n",
    "    [0,0,1,0,0,0,0,0,0,0,0,0,0,0,0,0,0,0,0,0,0,0,0,0,0],\n",
    "    [0,0,1,0,0,0,0,0,0,0,0,0,0,0,0,0,0,0,0,0,0,0,0,0,0],\n",
    "    [0,0,0,0,0,0,0,0,0,0,0,0,0,0,1,0,0,0,0,0,0,0,0,0,0],\n",
    "    [0,0,0,0,0,1,0,0,0,0,0,0,0,0,1,0,0,0,0,0,0,0,0,0,0],\n",
    "    [0,0,0,0,0,1,0,0,0,0,0,0,0,0,1,0,0,0,0,0,0,0,0,0,0],\n",
    "    [0,0,0,0,0,1,0,0,0,0,0,0,0,0,1,0,0,0,0,0,0,0,0,0,0],\n",
    "    [0,0,0,0,0,0,0,0,0,0,0,0,0,0,1,0,0,0,0,0,0,0,0,0,0],\n",
    "    [0,0,1,0,0,0,0,0,0,0,0,0,0,0,0,0,0,0,0,0,0,0,0,0,0],\n",
    "    [0,0,1,0,0,0,0,0,0,0,0,0,0,0,0,0,0,1,0,0,0,0,0,0,0],\n",
    "    [0,0,1,0,0,0,0,0,0,0,0,0,0,0,0,0,0,1,0,0,0,0,0,0,0],\n",
    "    [0,0,1,0,0,0,0,1,0,0,0,0,0,0,0,0,0,1,0,0,0,0,0,0,0],\n",
    "    [0,0,1,0,0,0,0,1,0,0,0,0,0,0,0,0,0,0,0,0,0,0,0,0,0],\n",
    "    [0,0,1,0,0,1,0,0,0,0,0,0,0,0,1,0,0,0,0,0,1,0,0,0,0],\n",
    "    [0,0,1,0,0,1,0,0,0,0,0,0,0,0,1,0,0,0,0,0,1,0,0,0,0],\n",
    "    [0,0,1,0,0,1,0,0,0,0,0,0,0,0,1,0,0,0,0,0,1,0,0,0,0],\n",
    "    [0,0,1,0,0,1,0,0,0,0,0,0,0,0,1,0,0,0,0,0,1,0,0,0,0],\n",
    "    [0,0,1,0,0,1,0,0,0,0,0,0,0,0,1,0,0,0,0,0,1,0,0,0,0],\n",
    "    ]).flatten('A'), (25,25))"
   ]
  },
  {
   "cell_type": "code",
   "execution_count": 70,
   "metadata": {},
   "outputs": [],
   "source": [
    "def plan_path(map,planner, start, goal, visualize=True):\n",
    "    planner = planner(map,map.shape[0],map.shape[1],1)\n",
    "    path = planner.find_path(start, goal)\n",
    "    if visualize:\n",
    "        plt.figure()\n",
    "        map[start] = 2\n",
    "        map[goal] = 3\n",
    "        plt.imshow(map)\n",
    "        plt.figure()\n",
    "        for point in path:\n",
    "            point = (int(point[1]),int(point[0]))\n",
    "            if map[point] == 0:\n",
    "                map[point] = 4\n",
    "            else:\n",
    "                map[point] = 5\n",
    "        plt.imshow(map)\n",
    "        plt.show()\n",
    "    return path\n",
    "\n"
   ]
  },
  {
   "cell_type": "code",
   "execution_count": 71,
   "metadata": {},
   "outputs": [
    {
     "name": "stdout",
     "output_type": "stream",
     "text": [
      "Found goal state!\n"
     ]
    },
    {
     "data": {
      "image/png": "[encoded data removed]",
      "text/plain": [
       "<Figure size 432x288 with 1 Axes>"
      ]
     },
     "metadata": {
      "needs_background": "light"
     },
     "output_type": "display_data"
    },
    {
     "data": {
      "image/png": "[encoded data removed]",
      "text/plain": [
       "<Figure size 432x288 with 1 Axes>"
      ]
     },
     "metadata": {
      "needs_background": "light"
     },
     "output_type": "display_data"
    },
    {
     "name": "stdout",
     "output_type": "stream",
     "text": [
      "Break!\n"
     ]
    },
    {
     "data": {
      "image/png": "[encoded data removed]",
      "text/plain": [
       "<Figure size 432x288 with 1 Axes>"
      ]
     },
     "metadata": {
      "needs_background": "light"
     },
     "output_type": "display_data"
    },
    {
     "data": {
      "image/png": "[encoded data removed]",
      "text/plain": [
       "<Figure size 432x288 with 1 Axes>"
      ]
     },
     "metadata": {
      "needs_background": "light"
     },
     "output_type": "display_data"
    },
    {
     "name": "stdout",
     "output_type": "stream",
     "text": [
      "Found goal state!\n"
     ]
    },
    {
     "data": {
      "image/png": "[encoded data removed]",
      "text/plain": [
       "<Figure size 432x288 with 1 Axes>"
      ]
     },
     "metadata": {
      "needs_background": "light"
     },
     "output_type": "display_data"
    },
    {
     "data": {
      "image/png": "[encoded data removed]",
      "text/plain": [
       "<Figure size 432x288 with 1 Axes>"
      ]
     },
     "metadata": {
      "needs_background": "light"
     },
     "output_type": "display_data"
    },
    {
     "name": "stdout",
     "output_type": "stream",
     "text": [
      "Found goal state!\n"
     ]
    },
    {
     "data": {
      "image/png": "[encoded data removed]",
      "text/plain": [
       "<Figure size 432x288 with 1 Axes>"
      ]
     },
     "metadata": {
      "needs_background": "light"
     },
     "output_type": "display_data"
    },
    {
     "data": {
      "image/png": "[encoded data removed]",
      "text/plain": [
       "<Figure size 432x288 with 1 Axes>"
      ]
     },
     "metadata": {
      "needs_background": "light"
     },
     "output_type": "display_data"
    },
    {
     "data": {
      "text/plain": [
       "[[22, 22],\n",
       " [22, 22],\n",
       " [21.0, 22.0],\n",
       " [20.0, 22.0],\n",
       " [19.0, 22.0],\n",
       " [18.0, 22.0],\n",
       " [17.0, 22.0],\n",
       " [16.0, 22.0],\n",
       " [15.0, 22.0],\n",
       " [14.0, 22.0],\n",
       " [13.0, 22.0],\n",
       " [12.0, 22.0],\n",
       " [11.0, 22.0],\n",
       " [10.0, 22.0],\n",
       " [9.0, 22.0],\n",
       " [9.0, 21.0],\n",
       " [9.0, 20.0],\n",
       " [9.0, 19.0],\n",
       " [8.0, 19.0],\n",
       " [8.0, 18.0],\n",
       " [8.0, 17.0],\n",
       " [8.0, 16.0],\n",
       " [8.0, 15.0],\n",
       " [9.0, 15.0],\n",
       " [9.0, 14.0],\n",
       " [8.0, 14.0],\n",
       " [7.0, 14.0],\n",
       " [7.0, 13.0],\n",
       " [6.0, 13.0],\n",
       " [5.0, 13.0],\n",
       " [4.0, 13.0],\n",
       " [4.0, 12.0],\n",
       " [4.0, 11.0],\n",
       " [4.0, 10.0],\n",
       " [4.0, 9.0],\n",
       " [4.0, 8.0],\n",
       " [5.0, 8.0],\n",
       " [5.0, 7.0],\n",
       " [6.0, 7.0],\n",
       " [6.0, 6.0],\n",
       " [7.0, 6.0],\n",
       " [8.0, 6.0],\n",
       " [8.0, 5.0],\n",
       " [8.0, 4.0],\n",
       " [9.0, 4.0],\n",
       " [9.0, 3.0],\n",
       " [10.0, 3.0],\n",
       " [10.0, 2.0],\n",
       " [10.0, 1.0],\n",
       " [10.0, 0.0],\n",
       " [9.0, 0.0],\n",
       " [8.0, 0.0],\n",
       " [7.0, 0.0],\n",
       " [6.0, 0.0],\n",
       " [5.0, 0.0],\n",
       " [4.0, 0.0],\n",
       " [3.0, 0.0],\n",
       " [2.0, 0.0],\n",
       " [1.0, 0.0],\n",
       " [0, 0]]"
      ]
     },
     "execution_count": 71,
     "metadata": {},
     "output_type": "execute_result"
    }
   ],
   "source": [
    "nodes = plan_path(occupancy_grid_ex_1.copy(),planners.RRTPlanner, (0,0), (9,9), visualize=True)\n",
    "nodes = plan_path(occupancy_grid_ex_1.copy(),planners.AStarPlanner, (0,0), (9,9), visualize=True)\n",
    "nodes = plan_path(occupancy_grid_ex_2.copy(),planners.RRTPlanner, (0,0), (22,22), visualize=True)\n",
    "# plt.scatter([node.x for node in nodes],[node.y for node in nodes])\n",
    "plan_path(occupancy_grid_ex_2.copy(),planners.RRTPlanner, (0,0), (22,22))"
   ]
  },
  {
   "cell_type": "code",
   "execution_count": 73,
   "metadata": {},
   "outputs": [],
   "source": [
    "import timeit \n",
    "import pandas as pd\n",
    "test_paths = {'test1':[(51,978),(603,991)],\n",
    "'test2':[(73,989),(1116,973)],\n",
    "'test3':[(596,989),(899,855)],\n",
    "'test4':[(762,972),(985,284)],\n",
    "'test5':[(876, 982), (1590, 295)]\n",
    "}\n",
    "algorithms = {'RRT':planners.RRTPlanner,'AStar':planners.AStarPlanner}\n",
    "time_df = pd.DataFrame(columns=['algorithm','test1','test2','test3','test4','test5'])\n",
    "dist_df = pd.DataFrame(columns=['algorithm','test1','test2','test3','test4','test5']) "
   ]
  },
  {
   "cell_type": "code",
   "execution_count": 74,
   "metadata": {},
   "outputs": [
    {
     "ename": "Error",
     "evalue": "Canceled future for execute_request message before replies were done",
     "output_type": "error",
     "traceback": [
      "Error: Canceled future for execute_request message before replies were done",
      "at t.KernelShellFutureHandler.dispose (c:\\Users\\herbi\\.vscode\\extensions\\ms-toolsai.jupyter-2022.3.1000901801\\out\\extension.js:2:1204175)",
      "at c:\\Users\\herbi\\.vscode\\extensions\\ms-toolsai.jupyter-2022.3.1000901801\\out\\extension.js:2:1223227",
      "at Map.forEach (<anonymous>)",
      "at v._clearKernelState (c:\\Users\\herbi\\.vscode\\extensions\\ms-toolsai.jupyter-2022.3.1000901801\\out\\extension.js:2:1223212)",
      "at v.dispose (c:\\Users\\herbi\\.vscode\\extensions\\ms-toolsai.jupyter-2022.3.1000901801\\out\\extension.js:2:1216694)",
      "at c:\\Users\\herbi\\.vscode\\extensions\\ms-toolsai.jupyter-2022.3.1000901801\\out\\extension.js:2:533674",
      "at t.swallowExceptions (c:\\Users\\herbi\\.vscode\\extensions\\ms-toolsai.jupyter-2022.3.1000901801\\out\\extension.js:2:913059)",
      "at dispose (c:\\Users\\herbi\\.vscode\\extensions\\ms-toolsai.jupyter-2022.3.1000901801\\out\\extension.js:2:533652)",
      "at t.RawSession.dispose (c:\\Users\\herbi\\.vscode\\extensions\\ms-toolsai.jupyter-2022.3.1000901801\\out\\extension.js:2:537330)",
      "at runMicrotasks (<anonymous>)",
      "at processTicksAndRejections (node:internal/process/task_queues:96:5)"
     ]
    }
   ],
   "source": [
    "for alg in algorithms:\n",
    "    planner = algorithms[alg](map,map.shape[0],map.shape[1],1)\n",
    "    avg_dists = []\n",
    "    time_dists = []\n",
    "    for test in test_paths:\n",
    "        start = test_paths[test][0]\n",
    "        goal = test_paths[test][1]\n",
    "        avg_dist = 0\n",
    "        for i in range(5):\n",
    "            path = planner.find_path(start, goal)\n",
    "            avg_dist += sum([np.sqrt((path[i][0]-path[i+1][0])**2+(path[i][1]-path[i+1][1])**2) for i in range(len(path)-1)])\n",
    "        avg_dists.append(avg_dist/5)\n",
    "        time_dists.append(timeit.timeit(lambda:planner.find_path(start, goal),number=5)/5)\n",
    "    time_df.append({'algorithm':alg,'test1':time_dists[0],'test2':time_dists[1],'test3':time_dists[2],'test4':time_dists[3],'test5':time_dists[4]},ignore_index=True)\n",
    "    dist_df.append({'algorithm':alg,'test1':avg_dists[0],'test2':avg_dists[1],'test3':avg_dists[2],'test4':avg_dists[3],'test5':avg_dists[4]},ignore_index=True)"
   ]
  },
  {
   "cell_type": "code",
   "execution_count": null,
   "metadata": {},
   "outputs": [],
   "source": [
    "dist_df \n",
    "time_df"
   ]
  }
 ],
 "metadata": {
  "interpreter": {
   "hash": "f064d58311f5ea509efccebc88686cd51a4f8eec9314b168ee320f6b83772901"
  },
  "kernelspec": {
   "display_name": "Python 3.9.12 64-bit (windows store)",
   "language": "python",
   "name": "python3"
  },
  "language_info": {
   "codemirror_mode": {
    "name": "ipython",
    "version": 2
   },
   "file_extension": ".py",
   "mimetype": "text/x-python",
   "name": "python",
   "nbconvert_exporter": "python",
   "pygments_lexer": "ipython2",
   "version": "2.7.18"
  },
  "orig_nbformat": 4
 },
 "nbformat": 4,
 "nbformat_minor": 2
}
